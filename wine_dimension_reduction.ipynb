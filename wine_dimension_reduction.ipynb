{
 "cells": [
  {
   "cell_type": "code",
   "execution_count": 3,
   "metadata": {},
   "outputs": [],
   "source": [
    "import numpy as np\n",
    "import pandas as pd\n",
    "from math import sqrt\n",
    "from copy import deepcopy\n",
    "import matplotlib.pyplot as plt"
   ]
  },
  {
   "cell_type": "code",
   "execution_count": 5,
   "metadata": {},
   "outputs": [],
   "source": [
    "from sklearn.datasets import load_wine\n",
    "\n",
    "from sklearn.manifold import TSNE"
   ]
  },
  {
   "cell_type": "code",
   "execution_count": 6,
   "metadata": {},
   "outputs": [
    {
     "data": {
      "text/plain": [
       "array([0, 1, 2])"
      ]
     },
     "execution_count": 6,
     "metadata": {},
     "output_type": "execute_result"
    }
   ],
   "source": [
    "data = load_wine()\n",
    "data.target[[10, 80, 140]]"
   ]
  },
  {
   "cell_type": "code",
   "execution_count": 7,
   "metadata": {},
   "outputs": [
    {
     "data": {
      "text/plain": [
       "['class_0', 'class_1', 'class_2']"
      ]
     },
     "execution_count": 7,
     "metadata": {},
     "output_type": "execute_result"
    }
   ],
   "source": [
    "list(data.target_names)"
   ]
  },
  {
   "cell_type": "code",
   "execution_count": 8,
   "metadata": {},
   "outputs": [],
   "source": [
    "\n",
    "tsne = TSNE(n_components=2, random_state=0)\n",
    "X = tsne.fit_transform(data.data)"
   ]
  },
  {
   "cell_type": "code",
   "execution_count": 10,
   "metadata": {},
   "outputs": [
    {
     "data": {
      "text/plain": [
       "13"
      ]
     },
     "execution_count": 10,
     "metadata": {},
     "output_type": "execute_result"
    }
   ],
   "source": [
    "#finding Kmax\n",
    "kmax=int(sqrt(X.shape[0]))\n",
    "kmax"
   ]
  },
  {
   "cell_type": "code",
   "execution_count": 12,
   "metadata": {},
   "outputs": [
    {
     "name": "stdout",
     "output_type": "stream",
     "text": [
      "0.10509296\n"
     ]
    }
   ],
   "source": [
    "#global centered\n",
    "cen=np.array(np.mean(X))\n",
    "print(cen)"
   ]
  },
  {
   "cell_type": "code",
   "execution_count": 13,
   "metadata": {},
   "outputs": [],
   "source": [
    "# Euclidean Distance Caculator\n",
    "def dist(a, b, ax=1):\n",
    "    return np.linalg.norm(a - b, axis=ax)\n"
   ]
  },
  {
   "cell_type": "code",
   "execution_count": 14,
   "metadata": {},
   "outputs": [],
   "source": [
    "# calculate AvgDistance\n",
    "def AvgDist(a):\n",
    "    sum=0;\n",
    "    for i in range(len(a)):\n",
    "        for j in range(len(a)):\n",
    "            if(j > i):\n",
    "                #print(i,j)\n",
    "                sum=sum+dist(a[i],a[j],None)\n",
    "        #print(\" \")\n",
    "    #print(\"total sum is:\",sum)\n",
    "    AvgDist=(2/(len(a)*(len(a)-1)))*sum\n",
    "    \n",
    "    return AvgDist"
   ]
  },
  {
   "cell_type": "code",
   "execution_count": 15,
   "metadata": {},
   "outputs": [
    {
     "name": "stdout",
     "output_type": "stream",
     "text": [
      "1.5391514807928373\n"
     ]
    }
   ],
   "source": [
    "#calculating epsilon neighbour value\n",
    "epsilon=0.125*AvgDist(X)\n",
    "print(epsilon)"
   ]
  },
  {
   "cell_type": "code",
   "execution_count": 16,
   "metadata": {},
   "outputs": [],
   "source": [
    "# calculating density parameter\n",
    "def DensityParameter(a):\n",
    "    S=[]\n",
    "    \n",
    "    for i in range(len(a)):\n",
    "        total=0\n",
    "        for j in range(len(a)):\n",
    "            if(i != j):\n",
    "                sum=epsilon - dist(a[i],a[j],None)\n",
    "                if (sum >=0):\n",
    "                    sum=1\n",
    "                else:\n",
    "                    sum=0\n",
    "                total=total+sum\n",
    "        S.append(total)\n",
    "    #index_max = np.argmax(S)\n",
    "    #print (S)\n",
    "    return S#a[index_max]       \n",
    "   "
   ]
  },
  {
   "cell_type": "code",
   "execution_count": 17,
   "metadata": {},
   "outputs": [],
   "source": [
    "#Storing density paremeter value \n",
    "dpl=DensityParameter(X)\n",
    "#print(final)"
   ]
  },
  {
   "cell_type": "code",
   "execution_count": 18,
   "metadata": {},
   "outputs": [],
   "source": [
    "VCVI=np.zeros(kmax)"
   ]
  },
  {
   "cell_type": "code",
   "execution_count": 19,
   "metadata": {},
   "outputs": [
    {
     "name": "stdout",
     "output_type": "stream",
     "text": [
      "Initial Centroids for k= 2\n",
      "[[ 8.421882  -6.6177344]\n",
      " [12.633137  -9.498085 ]]\n",
      "Initial Centroids for k= 3\n",
      "[[ 8.421882  -6.6177344]\n",
      " [12.633137  -9.498085 ]\n",
      " [-8.535162   6.5206394]]\n",
      "Initial Centroids for k= 4\n",
      "[[  8.421882   -6.6177344]\n",
      " [ 12.633137   -9.498085 ]\n",
      " [ -8.535162    6.5206394]\n",
      " [-11.714783    9.086669 ]]\n",
      "Initial Centroids for k= 5\n",
      "[[  8.421882   -6.6177344]\n",
      " [ 12.633137   -9.498085 ]\n",
      " [ -8.535162    6.5206394]\n",
      " [-11.714783    9.086669 ]\n",
      " [-10.267678    8.382047 ]]\n",
      "Initial Centroids for k= 6\n",
      "[[  8.421882    -6.6177344 ]\n",
      " [ 12.633137    -9.498085  ]\n",
      " [ -8.535162     6.5206394 ]\n",
      " [-11.714783     9.086669  ]\n",
      " [-10.267678     8.382047  ]\n",
      " [  0.21373458  -0.16870546]]\n",
      "Initial Centroids for k= 7\n",
      "[[  8.421882    -6.6177344 ]\n",
      " [ 12.633137    -9.498085  ]\n",
      " [ -8.535162     6.5206394 ]\n",
      " [-11.714783     9.086669  ]\n",
      " [-10.267678     8.382047  ]\n",
      " [  0.21373458  -0.16870546]\n",
      " [ 11.030436    -8.450217  ]]\n",
      "Initial Centroids for k= 8\n",
      "[[  8.421882    -6.6177344 ]\n",
      " [ 12.633137    -9.498085  ]\n",
      " [ -8.535162     6.5206394 ]\n",
      " [-11.714783     9.086669  ]\n",
      " [-10.267678     8.382047  ]\n",
      " [  0.21373458  -0.16870546]\n",
      " [ 11.030436    -8.450217  ]\n",
      " [ -0.9385982    0.93991154]]\n",
      "Initial Centroids for k= 9\n",
      "[[  8.421882    -6.6177344 ]\n",
      " [ 12.633137    -9.498085  ]\n",
      " [ -8.535162     6.5206394 ]\n",
      " [-11.714783     9.086669  ]\n",
      " [-10.267678     8.382047  ]\n",
      " [  0.21373458  -0.16870546]\n",
      " [ 11.030436    -8.450217  ]\n",
      " [ -0.9385982    0.93991154]\n",
      " [ 14.025186   -10.398888  ]]\n",
      "Initial Centroids for k= 10\n",
      "[[  8.421882    -6.6177344 ]\n",
      " [ 12.633137    -9.498085  ]\n",
      " [ -8.535162     6.5206394 ]\n",
      " [-11.714783     9.086669  ]\n",
      " [-10.267678     8.382047  ]\n",
      " [  0.21373458  -0.16870546]\n",
      " [ 11.030436    -8.450217  ]\n",
      " [ -0.9385982    0.93991154]\n",
      " [ 14.025186   -10.398888  ]\n",
      " [  2.4348412   -1.9925561 ]]\n",
      "Initial Centroids for k= 11\n",
      "[[  8.421882    -6.6177344 ]\n",
      " [ 12.633137    -9.498085  ]\n",
      " [ -8.535162     6.5206394 ]\n",
      " [-11.714783     9.086669  ]\n",
      " [-10.267678     8.382047  ]\n",
      " [  0.21373458  -0.16870546]\n",
      " [ 11.030436    -8.450217  ]\n",
      " [ -0.9385982    0.93991154]\n",
      " [ 14.025186   -10.398888  ]\n",
      " [  2.4348412   -1.9925561 ]\n",
      " [ -4.1848474    3.2056806 ]]\n",
      "Initial Centroids for k= 12\n",
      "[[  8.421882    -6.6177344 ]\n",
      " [ 12.633137    -9.498085  ]\n",
      " [ -8.535162     6.5206394 ]\n",
      " [-11.714783     9.086669  ]\n",
      " [-10.267678     8.382047  ]\n",
      " [  0.21373458  -0.16870546]\n",
      " [ 11.030436    -8.450217  ]\n",
      " [ -0.9385982    0.93991154]\n",
      " [ 14.025186   -10.398888  ]\n",
      " [  2.4348412   -1.9925561 ]\n",
      " [ -4.1848474    3.2056806 ]\n",
      " [ -2.2965305    1.7294114 ]]\n"
     ]
    }
   ],
   "source": [
    "for k in range(2,kmax):\n",
    "    final=dpl.copy()\n",
    "    #creating an array for storing initial cenroid\n",
    "    a=[]\n",
    "    #finding point with highest density parameter value\n",
    "    for i in range(k):\n",
    "        index_max=np.argmax(final)\n",
    "#        print(\"index number:\", index_max)\n",
    "#        print(\"original value at that index:\",X[index_max])\n",
    "        a.append(X[index_max])\n",
    "        final[index_max]=-1\n",
    "        for j in range(len(X)):\n",
    "            if (dist(a[i],X[j],None) < epsilon):\n",
    "                final[j]=-1\n",
    "                \n",
    "    #Initial centroids\n",
    "    C=np.array(list(a),dtype=np.float32)\n",
    "    print(\"Initial Centroids for k=\",k)\n",
    "    print(C)\n",
    "    # To store the value of centroids when it updates\n",
    "    C_old = np.zeros(C.shape)\n",
    "#    print(C_old)\n",
    "# Cluster Lables(0, 1, 2)\n",
    "    clusters = np.zeros(len(X))\n",
    "#    print(clusters)\n",
    "\n",
    "# Error func. - Distance between new centroids and old centroids\n",
    "    error=dist(C,C_old,None)\n",
    "#    print(error)\n",
    "# Loop will run till the error becomes zero\n",
    "\n",
    "    while error != 0:\n",
    "        # Assigning each value to its closest cluster\n",
    "        for i in range(len(X)):\n",
    "            distances = dist(X[i], C)\n",
    "           # print(\"distance=\",distances,\"X[i]=\",X[i],\"C=\",C)\n",
    "            cluster = np.argmin(distances)\n",
    "           # print(\"cluster=\",cluster)\n",
    "            clusters[i] = cluster\n",
    "        # Storing the old centroid values\n",
    "        C_old = deepcopy(C)\n",
    "       # print(\"old centroid=\",C_old)\n",
    "    \n",
    "        # Finding the new centroids by taking the average value\n",
    "        for i in range(k):\n",
    "            points = [X[j] for j in range(len(X)) if clusters[j] == i]\n",
    "            C[i] = np.mean(points, axis=0)\n",
    "        error = dist(C, C_old, None)\n",
    "#    print(\"new centroid=\",C)\n",
    "#    count=count+1\n",
    "#    print(\"count=\",count)\n",
    "    difference=0\n",
    "    for i in range(k):\n",
    "        difference=difference+dist(cen,C[i],None)\n",
    "#    print(\"cen=\",cen,\"C[i]=\",C[i])\n",
    "#    print(difference)\n",
    "    G=(difference/k)\n",
    "    #calculating Ti\n",
    "    total=0\n",
    "    for i in range(k):\n",
    "            points = np.array([X[j] for j in range(len(X)) if clusters[j] == i])\n",
    "            for j in range(len(points)):\n",
    "#                print(\"point=\",points[j],\"center=\",C[i],\"distance=\",dist(points[j],C[i],None))\n",
    "                total=total+dist(points[j],C[i],None)\n",
    "#        print(\" \")\n",
    "    T=total/X.shape[0]\n",
    "    VCVI[k]=((k*k*G)+((X.shape[0])*T))/X.shape[0]"
   ]
  },
  {
   "cell_type": "code",
   "execution_count": 20,
   "metadata": {},
   "outputs": [
    {
     "data": {
      "text/plain": [
       "4.819833936651102"
      ]
     },
     "execution_count": 20,
     "metadata": {},
     "output_type": "execute_result"
    }
   ],
   "source": [
    "min=VCVI[2]\n",
    "min"
   ]
  },
  {
   "cell_type": "code",
   "execution_count": 21,
   "metadata": {},
   "outputs": [],
   "source": [
    "for k in range(3,kmax):\n",
    "    if(min > VCVI[k]):\n",
    "        min=VCVI[k]\n",
    "        kopt=k\n",
    "    "
   ]
  },
  {
   "cell_type": "code",
   "execution_count": 22,
   "metadata": {},
   "outputs": [
    {
     "name": "stdout",
     "output_type": "stream",
     "text": [
      "4\n",
      "2.993459685464923\n"
     ]
    }
   ],
   "source": [
    "print(kopt)\n",
    "print(VCVI[kopt])"
   ]
  },
  {
   "cell_type": "code",
   "execution_count": 24,
   "metadata": {},
   "outputs": [
    {
     "name": "stdout",
     "output_type": "stream",
     "text": [
      "2.993459685464923\n"
     ]
    }
   ],
   "source": [
    "print(VCVI[4])"
   ]
  }
 ],
 "metadata": {
  "kernelspec": {
   "display_name": "Python 3",
   "language": "python",
   "name": "python3"
  },
  "language_info": {
   "codemirror_mode": {
    "name": "ipython",
    "version": 3
   },
   "file_extension": ".py",
   "mimetype": "text/x-python",
   "name": "python",
   "nbconvert_exporter": "python",
   "pygments_lexer": "ipython3",
   "version": "3.6.6"
  }
 },
 "nbformat": 4,
 "nbformat_minor": 2
}
