{
 "cells": [
  {
   "cell_type": "code",
   "execution_count": 1,
   "metadata": {},
   "outputs": [],
   "source": [
    "import numpy as np\n",
    "import pandas as pd\n",
    "from math import sqrt\n",
    "from copy import deepcopy\n",
    "import matplotlib.pyplot as plt"
   ]
  },
  {
   "cell_type": "code",
   "execution_count": 2,
   "metadata": {},
   "outputs": [],
   "source": [
    "from sklearn.datasets import load_iris\n",
    "\n",
    "from sklearn.manifold import TSNE"
   ]
  },
  {
   "cell_type": "code",
   "execution_count": 4,
   "metadata": {},
   "outputs": [],
   "source": [
    "iris = load_iris()\n",
    "tsne = TSNE(n_components=2, random_state=0)\n",
    "X = tsne.fit_transform(iris.data)"
   ]
  },
  {
   "cell_type": "code",
   "execution_count": 2,
   "metadata": {},
   "outputs": [
    {
     "name": "stdout",
     "output_type": "stream",
     "text": [
      "Input data & shape\n",
      "(5000, 2)\n"
     ]
    },
    {
     "data": {
      "text/html": [
       "<div>\n",
       "<style scoped>\n",
       "    .dataframe tbody tr th:only-of-type {\n",
       "        vertical-align: middle;\n",
       "    }\n",
       "\n",
       "    .dataframe tbody tr th {\n",
       "        vertical-align: top;\n",
       "    }\n",
       "\n",
       "    .dataframe thead th {\n",
       "        text-align: right;\n",
       "    }\n",
       "</style>\n",
       "<table border=\"1\" class=\"dataframe\">\n",
       "  <thead>\n",
       "    <tr style=\"text-align: right;\">\n",
       "      <th></th>\n",
       "      <th>v1</th>\n",
       "      <th>v2</th>\n",
       "    </tr>\n",
       "  </thead>\n",
       "  <tbody>\n",
       "    <tr>\n",
       "      <th>0</th>\n",
       "      <td>664159</td>\n",
       "      <td>550946</td>\n",
       "    </tr>\n",
       "    <tr>\n",
       "      <th>1</th>\n",
       "      <td>665845</td>\n",
       "      <td>557965</td>\n",
       "    </tr>\n",
       "    <tr>\n",
       "      <th>2</th>\n",
       "      <td>597173</td>\n",
       "      <td>575538</td>\n",
       "    </tr>\n",
       "    <tr>\n",
       "      <th>3</th>\n",
       "      <td>618600</td>\n",
       "      <td>551446</td>\n",
       "    </tr>\n",
       "    <tr>\n",
       "      <th>4</th>\n",
       "      <td>635690</td>\n",
       "      <td>608046</td>\n",
       "    </tr>\n",
       "  </tbody>\n",
       "</table>\n",
       "</div>"
      ],
      "text/plain": [
       "       v1      v2\n",
       "0  664159  550946\n",
       "1  665845  557965\n",
       "2  597173  575538\n",
       "3  618600  551446\n",
       "4  635690  608046"
      ]
     },
     "execution_count": 2,
     "metadata": {},
     "output_type": "execute_result"
    }
   ],
   "source": [
    "#importing the dataset\n",
    "df=pd.read_csv(\"./s1.csv\")\n",
    "print(\"Input data & shape\")\n",
    "print(df.shape)\n",
    "df.head()"
   ]
  },
  {
   "cell_type": "code",
   "execution_count": null,
   "metadata": {},
   "outputs": [],
   "source": []
  },
  {
   "cell_type": "code",
   "execution_count": 3,
   "metadata": {},
   "outputs": [
    {
     "data": {
      "text/html": [
       "<div>\n",
       "<style scoped>\n",
       "    .dataframe tbody tr th:only-of-type {\n",
       "        vertical-align: middle;\n",
       "    }\n",
       "\n",
       "    .dataframe tbody tr th {\n",
       "        vertical-align: top;\n",
       "    }\n",
       "\n",
       "    .dataframe thead th {\n",
       "        text-align: right;\n",
       "    }\n",
       "</style>\n",
       "<table border=\"1\" class=\"dataframe\">\n",
       "  <thead>\n",
       "    <tr style=\"text-align: right;\">\n",
       "      <th></th>\n",
       "      <th>v1</th>\n",
       "      <th>v2</th>\n",
       "    </tr>\n",
       "  </thead>\n",
       "  <tbody>\n",
       "    <tr>\n",
       "      <th>0</th>\n",
       "      <td>664159</td>\n",
       "      <td>550946</td>\n",
       "    </tr>\n",
       "    <tr>\n",
       "      <th>1</th>\n",
       "      <td>665845</td>\n",
       "      <td>557965</td>\n",
       "    </tr>\n",
       "    <tr>\n",
       "      <th>2</th>\n",
       "      <td>597173</td>\n",
       "      <td>575538</td>\n",
       "    </tr>\n",
       "    <tr>\n",
       "      <th>3</th>\n",
       "      <td>618600</td>\n",
       "      <td>551446</td>\n",
       "    </tr>\n",
       "    <tr>\n",
       "      <th>4</th>\n",
       "      <td>635690</td>\n",
       "      <td>608046</td>\n",
       "    </tr>\n",
       "  </tbody>\n",
       "</table>\n",
       "</div>"
      ],
      "text/plain": [
       "       v1      v2\n",
       "0  664159  550946\n",
       "1  665845  557965\n",
       "2  597173  575538\n",
       "3  618600  551446\n",
       "4  635690  608046"
      ]
     },
     "execution_count": 3,
     "metadata": {},
     "output_type": "execute_result"
    }
   ],
   "source": [
    "df.head()"
   ]
  },
  {
   "cell_type": "code",
   "execution_count": 5,
   "metadata": {},
   "outputs": [
    {
     "data": {
      "text/plain": [
       "12"
      ]
     },
     "execution_count": 5,
     "metadata": {},
     "output_type": "execute_result"
    }
   ],
   "source": [
    "#finding Kmax\n",
    "kmax=int(sqrt(df.shape[0]))\n",
    "kmax"
   ]
  },
  {
   "cell_type": "code",
   "execution_count": 6,
   "metadata": {},
   "outputs": [
    {
     "name": "stdout",
     "output_type": "stream",
     "text": [
      "0.14381672\n"
     ]
    }
   ],
   "source": [
    "#global centered\n",
    "cen=np.array(np.mean(df))\n",
    "print(cen)"
   ]
  },
  {
   "cell_type": "code",
   "execution_count": 7,
   "metadata": {},
   "outputs": [],
   "source": [
    "# Euclidean Distance Caculator\n",
    "def dist(a, b, ax=1):\n",
    "    return np.linalg.norm(a - b, axis=ax)\n"
   ]
  },
  {
   "cell_type": "code",
   "execution_count": 7,
   "metadata": {},
   "outputs": [],
   "source": [
    "# Getting the values and plotting it\n",
    "f1 = df['v1'].values\n",
    "f2 = df['v2'].values\n",
    "X = np.array(list(zip(f1,f2)))"
   ]
  },
  {
   "cell_type": "code",
   "execution_count": 8,
   "metadata": {},
   "outputs": [],
   "source": [
    "# calculate AvgDistance\n",
    "def AvgDist(a):\n",
    "    sum=0;\n",
    "    for i in range(len(a)):\n",
    "        for j in range(len(a)):\n",
    "            if(j > i):\n",
    "                #print(i,j)\n",
    "                sum=sum+dist(a[i],a[j],None)\n",
    "        #print(\" \")\n",
    "    #print(\"total sum is:\",sum)\n",
    "    AvgDist=(2/(len(a)*(len(a)-1)))*sum\n",
    "    \n",
    "    return AvgDist"
   ]
  },
  {
   "cell_type": "code",
   "execution_count": 9,
   "metadata": {},
   "outputs": [
    {
     "name": "stdout",
     "output_type": "stream",
     "text": [
      "2.5414933306965795\n"
     ]
    }
   ],
   "source": [
    "#calculating epsilon neighbour value\n",
    "epsilon=0.125*AvgDist(X)\n",
    "print(epsilon)"
   ]
  },
  {
   "cell_type": "code",
   "execution_count": 10,
   "metadata": {},
   "outputs": [],
   "source": [
    "# calculating density parameter\n",
    "def DensityParameter(a):\n",
    "    S=[]\n",
    "    \n",
    "    for i in range(len(a)):\n",
    "        total=0\n",
    "        for j in range(len(a)):\n",
    "            if(i != j):\n",
    "                sum=epsilon - dist(a[i],a[j],None)\n",
    "                if (sum >=0):\n",
    "                    sum=1\n",
    "                else:\n",
    "                    sum=0\n",
    "                total=total+sum\n",
    "        S.append(total)\n",
    "    #index_max = np.argmax(S)\n",
    "    #print (S)\n",
    "    return S#a[index_max]       \n",
    "   "
   ]
  },
  {
   "cell_type": "code",
   "execution_count": 11,
   "metadata": {},
   "outputs": [],
   "source": [
    "#Storing density paremeter value \n",
    "dpl=DensityParameter(X)\n",
    "#print(final)"
   ]
  },
  {
   "cell_type": "code",
   "execution_count": 12,
   "metadata": {},
   "outputs": [],
   "source": [
    "VCVI=np.zeros(kmax)"
   ]
  },
  {
   "cell_type": "code",
   "execution_count": 14,
   "metadata": {},
   "outputs": [
    {
     "name": "stdout",
     "output_type": "stream",
     "text": [
      "Initial Centroids for k= 2\n",
      "[[ 12.394301   23.352915 ]\n",
      " [ -6.4698305 -17.44527  ]]\n",
      "Initial Centroids for k= 3\n",
      "[[ 12.394301   23.352915 ]\n",
      " [ -6.4698305 -17.44527  ]\n",
      " [ -5.8403697 -11.800422 ]]\n",
      "Initial Centroids for k= 4\n",
      "[[ 12.394301   23.352915 ]\n",
      " [ -6.4698305 -17.44527  ]\n",
      " [ -5.8403697 -11.800422 ]\n",
      " [ -4.4949164  -7.5312047]]\n",
      "Initial Centroids for k= 5\n",
      "[[ 12.394301   23.352915 ]\n",
      " [ -6.4698305 -17.44527  ]\n",
      " [ -5.8403697 -11.800422 ]\n",
      " [ -4.4949164  -7.5312047]\n",
      " [ 12.435471   20.738504 ]]\n",
      "Initial Centroids for k= 6\n",
      "[[ 12.394301   23.352915 ]\n",
      " [ -6.4698305 -17.44527  ]\n",
      " [ -5.8403697 -11.800422 ]\n",
      " [ -4.4949164  -7.5312047]\n",
      " [ 12.435471   20.738504 ]\n",
      " [ -5.3851194 -15.092701 ]]\n",
      "Initial Centroids for k= 7\n",
      "[[ 12.394301   23.352915 ]\n",
      " [ -6.4698305 -17.44527  ]\n",
      " [ -5.8403697 -11.800422 ]\n",
      " [ -4.4949164  -7.5312047]\n",
      " [ 12.435471   20.738504 ]\n",
      " [ -5.3851194 -15.092701 ]\n",
      " [ 12.2397     25.997301 ]]\n",
      "Initial Centroids for k= 8\n",
      "[[ 12.394301   23.352915 ]\n",
      " [ -6.4698305 -17.44527  ]\n",
      " [ -5.8403697 -11.800422 ]\n",
      " [ -4.4949164  -7.5312047]\n",
      " [ 12.435471   20.738504 ]\n",
      " [ -5.3851194 -15.092701 ]\n",
      " [ 12.2397     25.997301 ]\n",
      " [ -3.4521165 -10.322455 ]]\n",
      "Initial Centroids for k= 9\n",
      "[[ 12.394301   23.352915 ]\n",
      " [ -6.4698305 -17.44527  ]\n",
      " [ -5.8403697 -11.800422 ]\n",
      " [ -4.4949164  -7.5312047]\n",
      " [ 12.435471   20.738504 ]\n",
      " [ -5.3851194 -15.092701 ]\n",
      " [ 12.2397     25.997301 ]\n",
      " [ -3.4521165 -10.322455 ]\n",
      " [ -1.8099552  -6.9599743]]\n",
      "Initial Centroids for k= 10\n",
      "[[ 12.394301   23.352915 ]\n",
      " [ -6.4698305 -17.44527  ]\n",
      " [ -5.8403697 -11.800422 ]\n",
      " [ -4.4949164  -7.5312047]\n",
      " [ 12.435471   20.738504 ]\n",
      " [ -5.3851194 -15.092701 ]\n",
      " [ 12.2397     25.997301 ]\n",
      " [ -3.4521165 -10.322455 ]\n",
      " [ -1.8099552  -6.9599743]\n",
      " [ -3.1292045  -4.4795413]]\n",
      "Initial Centroids for k= 11\n",
      "[[ 12.394301   23.352915 ]\n",
      " [ -6.4698305 -17.44527  ]\n",
      " [ -5.8403697 -11.800422 ]\n",
      " [ -4.4949164  -7.5312047]\n",
      " [ 12.435471   20.738504 ]\n",
      " [ -5.3851194 -15.092701 ]\n",
      " [ 12.2397     25.997301 ]\n",
      " [ -3.4521165 -10.322455 ]\n",
      " [ -1.8099552  -6.9599743]\n",
      " [ -3.1292045  -4.4795413]\n",
      " [ -8.199972  -19.320158 ]]\n"
     ]
    }
   ],
   "source": [
    "for k in range(2,kmax):\n",
    "    final=dpl.copy()\n",
    "    #creating an array for storing initial cenroid\n",
    "    a=[]\n",
    "    #finding point with highest density parameter value\n",
    "    for i in range(k):\n",
    "        index_max=np.argmax(final)\n",
    "#        print(\"index number:\", index_max)\n",
    "#        print(\"original value at that index:\",X[index_max])\n",
    "        a.append(X[index_max])\n",
    "        final[index_max]=-1\n",
    "        for j in range(len(X)):\n",
    "            if (dist(a[i],X[j],None) < epsilon):\n",
    "                final[j]=-1\n",
    "                \n",
    "    #Initial centroids\n",
    "    C=np.array(list(a),dtype=np.float32)\n",
    "    print(\"Initial Centroids for k=\",k)\n",
    "    print(C)\n",
    "    # To store the value of centroids when it updates\n",
    "    C_old = np.zeros(C.shape)\n",
    "#    print(C_old)\n",
    "# Cluster Lables(0, 1, 2)\n",
    "    clusters = np.zeros(len(X))\n",
    "#    print(clusters)\n",
    "\n",
    "# Error func. - Distance between new centroids and old centroids\n",
    "    error=dist(C,C_old,None)\n",
    "#    print(error)\n",
    "# Loop will run till the error becomes zero\n",
    "\n",
    "    while error != 0:\n",
    "        # Assigning each value to its closest cluster\n",
    "        for i in range(len(X)):\n",
    "            distances = dist(X[i], C)\n",
    "           # print(\"distance=\",distances,\"X[i]=\",X[i],\"C=\",C)\n",
    "            cluster = np.argmin(distances)\n",
    "           # print(\"cluster=\",cluster)\n",
    "            clusters[i] = cluster\n",
    "        # Storing the old centroid values\n",
    "        C_old = deepcopy(C)\n",
    "       # print(\"old centroid=\",C_old)\n",
    "    \n",
    "        # Finding the new centroids by taking the average value\n",
    "        for i in range(k):\n",
    "            points = [X[j] for j in range(len(X)) if clusters[j] == i]\n",
    "            C[i] = np.mean(points, axis=0)\n",
    "        error = dist(C, C_old, None)\n",
    "#    print(\"new centroid=\",C)\n",
    "#    count=count+1\n",
    "#    print(\"count=\",count)\n",
    "    difference=0\n",
    "    for i in range(k):\n",
    "        difference=difference+dist(cen,C[i],None)\n",
    "#    print(\"cen=\",cen,\"C[i]=\",C[i])\n",
    "#    print(difference)\n",
    "    G=(difference/k)\n",
    "    #calculating Ti\n",
    "    total=0\n",
    "    for i in range(k):\n",
    "            points = np.array([X[j] for j in range(len(X)) if clusters[j] == i])\n",
    "            for j in range(len(points)):\n",
    "#                print(\"point=\",points[j],\"center=\",C[i],\"distance=\",dist(points[j],C[i],None))\n",
    "                total=total+dist(points[j],C[i],None)\n",
    "#        print(\" \")\n",
    "    T=total/df.shape[0]\n",
    "    VCVI[k]=((k*k*G)+((df.shape[0])*T))/df.shape[0]"
   ]
  },
  {
   "cell_type": "code",
   "execution_count": 15,
   "metadata": {},
   "outputs": [
    {
     "data": {
      "text/plain": [
       "array([ 0.        ,  0.        ,  3.9617282 ,  3.30786691,  3.3850938 ,\n",
       "        4.41779499,  5.63337386,  7.46645843,  8.92611038, 10.30625   ,\n",
       "       11.84651381, 14.13866084])"
      ]
     },
     "execution_count": 15,
     "metadata": {},
     "output_type": "execute_result"
    }
   ],
   "source": [
    "VCVI"
   ]
  },
  {
   "cell_type": "code",
   "execution_count": 16,
   "metadata": {},
   "outputs": [
    {
     "data": {
      "text/plain": [
       "3.961728200962146"
      ]
     },
     "execution_count": 16,
     "metadata": {},
     "output_type": "execute_result"
    }
   ],
   "source": [
    "min=VCVI[2]\n",
    "min"
   ]
  },
  {
   "cell_type": "code",
   "execution_count": 17,
   "metadata": {},
   "outputs": [],
   "source": [
    "for k in range(3,kmax):\n",
    "    if(min > VCVI[k]):\n",
    "        min=VCVI[k]\n",
    "        kopt=k\n",
    "    "
   ]
  },
  {
   "cell_type": "code",
   "execution_count": 18,
   "metadata": {},
   "outputs": [
    {
     "name": "stdout",
     "output_type": "stream",
     "text": [
      "3\n",
      "3.3078669121364754\n"
     ]
    }
   ],
   "source": [
    "print(kopt)\n",
    "print(VCVI[kopt])"
   ]
  },
  {
   "cell_type": "code",
   "execution_count": null,
   "metadata": {},
   "outputs": [],
   "source": []
  },
  {
   "cell_type": "code",
   "execution_count": null,
   "metadata": {},
   "outputs": [],
   "source": []
  }
 ],
 "metadata": {
  "kernelspec": {
   "display_name": "Python 3",
   "language": "python",
   "name": "python3"
  },
  "language_info": {
   "codemirror_mode": {
    "name": "ipython",
    "version": 3
   },
   "file_extension": ".py",
   "mimetype": "text/x-python",
   "name": "python",
   "nbconvert_exporter": "python",
   "pygments_lexer": "ipython3",
   "version": "3.6.6"
  }
 },
 "nbformat": 4,
 "nbformat_minor": 2
}
